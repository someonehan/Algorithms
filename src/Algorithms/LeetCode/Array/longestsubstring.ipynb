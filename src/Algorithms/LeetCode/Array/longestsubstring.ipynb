{
 "cells": [
  {
   "cell_type": "markdown",
   "metadata": {},
   "source": [
    "https://leetcode.com/problems/longest-substring-without-repeating-characters/\n",
    "\n",
    "Longest substring without repeating charactors\n",
    "\n",
    "given a string, find the length of the longest substring without repeating charactors\n",
    "\n",
    "Example 1:\n",
    "    input : \"abcabcbb\"\n",
    "    output:3\n",
    "    the answer is abc\n",
    "Example 2:\n",
    "    input:\"bbbbb\"\n",
    "    output:1\n",
    "    the answer is b\n",
    "example 3:\n",
    "    input:\"pwwkew\"\n",
    "    output:3\n",
    "    the answer is wke"
   ]
  },
  {
   "cell_type": "code",
   "execution_count": 25,
   "metadata": {},
   "outputs": [
    {
     "data": {
      "text/plain": [
       "3"
      ]
     },
     "execution_count": 25,
     "metadata": {},
     "output_type": "execute_result"
    }
   ],
   "source": [
    "def allUnique(s,start,end):\n",
    "    seened = set()\n",
    "    for i in range(start, end):\n",
    "        if s[i] in seened:return False\n",
    "        seened.add(s[i])\n",
    "    return True\n",
    "        \n",
    "def longest_substring(s):\n",
    "    len_s = len(s)\n",
    "    ans = 0\n",
    "    for i in range(len_s):\n",
    "        for j in range(i, len_s):           \n",
    "            if allUnique(s,i, j):\n",
    "                ans = max(ans, j - i)\n",
    "    return ans\n",
    "\n",
    "longest_substring(\"abcabcbb\")\n",
    "    "
   ]
  },
  {
   "cell_type": "markdown",
   "metadata": {
    "collapsed": true
   },
   "source": []
  },
  {
   "cell_type": "code",
   "execution_count": 6,
   "metadata": {},
   "outputs": [
    {
     "data": {
      "text/plain": [
       "3"
      ]
     },
     "execution_count": 6,
     "metadata": {},
     "output_type": "execute_result"
    }
   ],
   "source": [
    "def lengthOfLongestSubstring(s):\n",
    "    ans = i = j = 0\n",
    "    sub_str = set()\n",
    "    length = len(s)\n",
    "    while i < length and j < length:\n",
    "        if s[i] not in sub_str:\n",
    "            sub_str.add(s[i])\n",
    "            i += 1\n",
    "            ans = max(ans, i - j)\n",
    "        else:\n",
    "            sub_str.remove(s[j])\n",
    "            j += 1\n",
    "    \n",
    "    return ans\n",
    "\n",
    "lengthOfLongestSubstring(\"abcabcbb\")"
   ]
  },
  {
   "cell_type": "code",
   "execution_count": null,
   "metadata": {
    "collapsed": true
   },
   "outputs": [],
   "source": []
  }
 ],
 "metadata": {
  "kernelspec": {
   "display_name": "Python 3",
   "language": "python",
   "name": "python3"
  },
  "language_info": {
   "codemirror_mode": {
    "name": "ipython",
    "version": 3
   },
   "file_extension": ".py",
   "mimetype": "text/x-python",
   "name": "python",
   "nbconvert_exporter": "python",
   "pygments_lexer": "ipython3",
   "version": "3.6.1"
  }
 },
 "nbformat": 4,
 "nbformat_minor": 2
}
