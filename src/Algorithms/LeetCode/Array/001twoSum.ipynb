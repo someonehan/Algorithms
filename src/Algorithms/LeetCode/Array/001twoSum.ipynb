{
 "cells": [
  {
   "cell_type": "markdown",
   "metadata": {},
   "source": [
    "Question\n",
    "    Given an array of integers, return indices of the two numbers such that they add up to a specific target.\n",
    "    You may assume that each input would have exactly one solution, and you may not use the same element twice.\n",
    "    \n",
    "Example:\n",
    "    nums = [2, 7, 11, 15] target= 9\n",
    "    return [0,1]"
   ]
  },
  {
   "cell_type": "code",
   "execution_count": 1,
   "metadata": {},
   "outputs": [
    {
     "name": "stdout",
     "output_type": "stream",
     "text": [
      "[0, 1]\n"
     ]
    }
   ],
   "source": [
    "# Approach 1: Brute force\n",
    "class Solution:\n",
    "    def twoSum(self, nums, target):\n",
    "        for i in range(len(nums)):\n",
    "            for j in range(i + 1, len(nums)):\n",
    "                if nums[i] + nums[j] == target:\n",
    "                    return [i, j]\n",
    "                \n",
    "s = Solution()\n",
    "nums = [2, 7, 11, 15]\n",
    "ret = s.twoSum(nums, 9)\n",
    "print(ret)  "
   ]
  },
  {
   "cell_type": "code",
   "execution_count": 2,
   "metadata": {},
   "outputs": [
    {
     "name": "stdout",
     "output_type": "stream",
     "text": [
      "[0, 1]\n"
     ]
    }
   ],
   "source": [
    "# Approach 2:\n",
    "# to inprove our run time complexity, we need a more efficient way to check if the complements exists in the array. if the complement exists,\n",
    "# we need to look up its index, a hash table can improve\n",
    "\n",
    "class Solution2:\n",
    "    def twoSum(self, nums, target):\n",
    "        val_key = {nums[i]:i for i in range(len(nums))}\n",
    "        \n",
    "        for i in range(len(nums)):\n",
    "            val = target - nums[i]\n",
    "            if val in val_key.keys() and val_key[val] != i:\n",
    "                return [i, val_key[val]]\n",
    "            \n",
    "s = Solution2()\n",
    "nums = [2, 7, 11, 15]\n",
    "ret = s.twoSum(nums, 9)\n",
    "print(ret)"
   ]
  },
  {
   "cell_type": "code",
   "execution_count": 3,
   "metadata": {},
   "outputs": [
    {
     "name": "stdout",
     "output_type": "stream",
     "text": [
      "[1, 0]\n"
     ]
    }
   ],
   "source": [
    "# Approach 3\n",
    "# it turns out we can do it in one-pass, while we iterate and inserting elements into the table, we also look back to check if current element's\n",
    "# already exists in the table, if it exists, we have found a solution and return immediately\n",
    "class Solution3:\n",
    "    def twoSum(self, nums, target):\n",
    "        val_key = {}\n",
    "        for i, num in enumerate(nums):\n",
    "            val = target - num\n",
    "            if val in val_key.keys():\n",
    "                return [i, val_key[val]]\n",
    "            else:\n",
    "                val_key[num] = i\n",
    "                \n",
    "s = Solution3()\n",
    "nums = [2, 7, 11, 15]\n",
    "ret = s.twoSum(nums, 9)\n",
    "print(ret)"
   ]
  },
  {
   "cell_type": "code",
   "execution_count": null,
   "metadata": {
    "collapsed": true
   },
   "outputs": [],
   "source": []
  }
 ],
 "metadata": {
  "kernelspec": {
   "display_name": "Python 3",
   "language": "python",
   "name": "python3"
  },
  "language_info": {
   "codemirror_mode": {
    "name": "ipython",
    "version": 3
   },
   "file_extension": ".py",
   "mimetype": "text/x-python",
   "name": "python",
   "nbconvert_exporter": "python",
   "pygments_lexer": "ipython3",
   "version": "3.6.1"
  }
 },
 "nbformat": 4,
 "nbformat_minor": 2
}
